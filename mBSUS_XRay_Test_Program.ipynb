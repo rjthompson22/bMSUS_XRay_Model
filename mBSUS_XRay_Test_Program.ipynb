{
  "nbformat": 4,
  "nbformat_minor": 0,
  "metadata": {
    "colab": {
      "name": "mBSUS_XRay_Test_Program.ipynb",
      "provenance": [],
      "authorship_tag": "ABX9TyNcAiC7LjfxaYNLIZpGIbM6",
      "include_colab_link": true
    },
    "kernelspec": {
      "name": "python3",
      "display_name": "Python 3"
    }
  },
  "cells": [
    {
      "cell_type": "markdown",
      "metadata": {
        "id": "view-in-github",
        "colab_type": "text"
      },
      "source": [
        "<a href=\"https://colab.research.google.com/github/rjthompson22/bMSUS_XRay_Model/blob/master/mBSUS_XRay_Test_Program.ipynb\" target=\"_parent\"><img src=\"https://colab.research.google.com/assets/colab-badge.svg\" alt=\"Open In Colab\"/></a>"
      ]
    },
    {
      "cell_type": "code",
      "metadata": {
        "id": "1StLx_NshsX4",
        "colab_type": "code",
        "colab": {
          "base_uri": "https://localhost:8080/",
          "height": 86
        },
        "outputId": "a5dcc70b-8518-46b3-d104-c988b17124a3"
      },
      "source": [
        "!pip install h5py pyyaml\n",
        "import tensorflow as tf\n",
        "from tensorflow import keras\n"
      ],
      "execution_count": 1,
      "outputs": [
        {
          "output_type": "stream",
          "text": [
            "Requirement already satisfied: h5py in /usr/local/lib/python3.6/dist-packages (2.10.0)\n",
            "Requirement already satisfied: pyyaml in /usr/local/lib/python3.6/dist-packages (3.13)\n",
            "Requirement already satisfied: six in /usr/local/lib/python3.6/dist-packages (from h5py) (1.15.0)\n",
            "Requirement already satisfied: numpy>=1.7 in /usr/local/lib/python3.6/dist-packages (from h5py) (1.18.5)\n"
          ],
          "name": "stdout"
        }
      ]
    },
    {
      "cell_type": "code",
      "metadata": {
        "id": "MfavZkln26Cr",
        "colab_type": "code",
        "colab": {
          "base_uri": "https://localhost:8080/",
          "height": 361
        },
        "outputId": "6781755d-a039-4e7f-c58e-48a765907737"
      },
      "source": [
        "import urllib.request\n",
        "\n",
        "print('Beginning file download with urllib2...')\n",
        "\n",
        "url = 'https://drive.google.com/file/d/1Z0dlwhtS03lYhHv-f3ZT7nf_PgbIXBMB/view?usp=sharing'\n",
        "urllib.request.urlretrieve(url, 'basic_CNN.h5')\n",
        "basic_CNN = keras.models.load_model('basic_CNN.h5')"
      ],
      "execution_count": 12,
      "outputs": [
        {
          "output_type": "stream",
          "text": [
            "Beginning file download with urllib2...\n"
          ],
          "name": "stdout"
        },
        {
          "output_type": "error",
          "ename": "OSError",
          "evalue": "ignored",
          "traceback": [
            "\u001b[0;31m---------------------------------------------------------------------------\u001b[0m",
            "\u001b[0;31mOSError\u001b[0m                                   Traceback (most recent call last)",
            "\u001b[0;32m<ipython-input-12-bebbfd616f01>\u001b[0m in \u001b[0;36m<module>\u001b[0;34m()\u001b[0m\n\u001b[1;32m      5\u001b[0m \u001b[0murl\u001b[0m \u001b[0;34m=\u001b[0m \u001b[0;34m'https://drive.google.com/file/d/1Z0dlwhtS03lYhHv-f3ZT7nf_PgbIXBMB/view?usp=sharing'\u001b[0m\u001b[0;34m\u001b[0m\u001b[0;34m\u001b[0m\u001b[0m\n\u001b[1;32m      6\u001b[0m \u001b[0murllib\u001b[0m\u001b[0;34m.\u001b[0m\u001b[0mrequest\u001b[0m\u001b[0;34m.\u001b[0m\u001b[0murlretrieve\u001b[0m\u001b[0;34m(\u001b[0m\u001b[0murl\u001b[0m\u001b[0;34m,\u001b[0m \u001b[0;34m'basic_CNN.h5'\u001b[0m\u001b[0;34m)\u001b[0m\u001b[0;34m\u001b[0m\u001b[0;34m\u001b[0m\u001b[0m\n\u001b[0;32m----> 7\u001b[0;31m \u001b[0mbasic_CNN\u001b[0m \u001b[0;34m=\u001b[0m \u001b[0mkeras\u001b[0m\u001b[0;34m.\u001b[0m\u001b[0mmodels\u001b[0m\u001b[0;34m.\u001b[0m\u001b[0mload_model\u001b[0m\u001b[0;34m(\u001b[0m\u001b[0;34m'basic_CNN.h5'\u001b[0m\u001b[0;34m)\u001b[0m\u001b[0;34m\u001b[0m\u001b[0;34m\u001b[0m\u001b[0m\n\u001b[0m",
            "\u001b[0;32m/usr/local/lib/python3.6/dist-packages/tensorflow/python/keras/saving/save.py\u001b[0m in \u001b[0;36mload_model\u001b[0;34m(filepath, custom_objects, compile, options)\u001b[0m\n\u001b[1;32m    184\u001b[0m     \u001b[0mfilepath\u001b[0m \u001b[0;34m=\u001b[0m \u001b[0mpath_to_string\u001b[0m\u001b[0;34m(\u001b[0m\u001b[0mfilepath\u001b[0m\u001b[0;34m)\u001b[0m\u001b[0;34m\u001b[0m\u001b[0;34m\u001b[0m\u001b[0m\n\u001b[1;32m    185\u001b[0m     \u001b[0;32mif\u001b[0m \u001b[0misinstance\u001b[0m\u001b[0;34m(\u001b[0m\u001b[0mfilepath\u001b[0m\u001b[0;34m,\u001b[0m \u001b[0msix\u001b[0m\u001b[0;34m.\u001b[0m\u001b[0mstring_types\u001b[0m\u001b[0;34m)\u001b[0m\u001b[0;34m:\u001b[0m\u001b[0;34m\u001b[0m\u001b[0;34m\u001b[0m\u001b[0m\n\u001b[0;32m--> 186\u001b[0;31m       \u001b[0mloader_impl\u001b[0m\u001b[0;34m.\u001b[0m\u001b[0mparse_saved_model\u001b[0m\u001b[0;34m(\u001b[0m\u001b[0mfilepath\u001b[0m\u001b[0;34m)\u001b[0m\u001b[0;34m\u001b[0m\u001b[0;34m\u001b[0m\u001b[0m\n\u001b[0m\u001b[1;32m    187\u001b[0m       \u001b[0;32mreturn\u001b[0m \u001b[0msaved_model_load\u001b[0m\u001b[0;34m.\u001b[0m\u001b[0mload\u001b[0m\u001b[0;34m(\u001b[0m\u001b[0mfilepath\u001b[0m\u001b[0;34m,\u001b[0m \u001b[0mcompile\u001b[0m\u001b[0;34m,\u001b[0m \u001b[0moptions\u001b[0m\u001b[0;34m)\u001b[0m\u001b[0;34m\u001b[0m\u001b[0;34m\u001b[0m\u001b[0m\n\u001b[1;32m    188\u001b[0m \u001b[0;34m\u001b[0m\u001b[0m\n",
            "\u001b[0;32m/usr/local/lib/python3.6/dist-packages/tensorflow/python/saved_model/loader_impl.py\u001b[0m in \u001b[0;36mparse_saved_model\u001b[0;34m(export_dir)\u001b[0m\n\u001b[1;32m    111\u001b[0m                   (export_dir,\n\u001b[1;32m    112\u001b[0m                    \u001b[0mconstants\u001b[0m\u001b[0;34m.\u001b[0m\u001b[0mSAVED_MODEL_FILENAME_PBTXT\u001b[0m\u001b[0;34m,\u001b[0m\u001b[0;34m\u001b[0m\u001b[0;34m\u001b[0m\u001b[0m\n\u001b[0;32m--> 113\u001b[0;31m                    constants.SAVED_MODEL_FILENAME_PB))\n\u001b[0m\u001b[1;32m    114\u001b[0m \u001b[0;34m\u001b[0m\u001b[0m\n\u001b[1;32m    115\u001b[0m \u001b[0;34m\u001b[0m\u001b[0m\n",
            "\u001b[0;31mOSError\u001b[0m: SavedModel file does not exist at: basic_CNN.h5/{saved_model.pbtxt|saved_model.pb}"
          ]
        }
      ]
    },
    {
      "cell_type": "code",
      "metadata": {
        "id": "GbvUyhvpo_E1",
        "colab_type": "code",
        "colab": {
          "base_uri": "https://localhost:8080/",
          "height": 361
        },
        "outputId": "3b96b38a-23bf-4053-f438-cc8756fa68e3"
      },
      "source": [
        "from google.colab import drive\n",
        "drive.mount('/content/gdrive')\n",
        "\n",
        "%cd /content/gdrive/My Drive/Colab Notebooks/mBSUS"
      ],
      "execution_count": 7,
      "outputs": [
        {
          "output_type": "stream",
          "text": [
            "/root/.keras/datasets/basic_CNN.h5\n"
          ],
          "name": "stdout"
        },
        {
          "output_type": "error",
          "ename": "OSError",
          "evalue": "ignored",
          "traceback": [
            "\u001b[0;31m---------------------------------------------------------------------------\u001b[0m",
            "\u001b[0;31mOSError\u001b[0m                                   Traceback (most recent call last)",
            "\u001b[0;32m<ipython-input-7-f2cbefb15fa1>\u001b[0m in \u001b[0;36m<module>\u001b[0;34m()\u001b[0m\n\u001b[1;32m      6\u001b[0m \u001b[0mprint\u001b[0m\u001b[0;34m(\u001b[0m\u001b[0mweights_path\u001b[0m\u001b[0;34m)\u001b[0m\u001b[0;34m\u001b[0m\u001b[0;34m\u001b[0m\u001b[0m\n\u001b[1;32m      7\u001b[0m \u001b[0mos\u001b[0m\u001b[0;34m.\u001b[0m\u001b[0mchdir\u001b[0m\u001b[0;34m(\u001b[0m\u001b[0;34m'/root/.keras/datasets/'\u001b[0m\u001b[0;34m)\u001b[0m\u001b[0;34m\u001b[0m\u001b[0;34m\u001b[0m\u001b[0m\n\u001b[0;32m----> 8\u001b[0;31m \u001b[0mbasic_CNN\u001b[0m \u001b[0;34m=\u001b[0m \u001b[0mkeras\u001b[0m\u001b[0;34m.\u001b[0m\u001b[0mmodels\u001b[0m\u001b[0;34m.\u001b[0m\u001b[0mload_model\u001b[0m\u001b[0;34m(\u001b[0m\u001b[0;34m'basic_CNN.h5'\u001b[0m\u001b[0;34m)\u001b[0m\u001b[0;34m\u001b[0m\u001b[0;34m\u001b[0m\u001b[0m\n\u001b[0m",
            "\u001b[0;32m/usr/local/lib/python3.6/dist-packages/tensorflow/python/keras/saving/save.py\u001b[0m in \u001b[0;36mload_model\u001b[0;34m(filepath, custom_objects, compile, options)\u001b[0m\n\u001b[1;32m    184\u001b[0m     \u001b[0mfilepath\u001b[0m \u001b[0;34m=\u001b[0m \u001b[0mpath_to_string\u001b[0m\u001b[0;34m(\u001b[0m\u001b[0mfilepath\u001b[0m\u001b[0;34m)\u001b[0m\u001b[0;34m\u001b[0m\u001b[0;34m\u001b[0m\u001b[0m\n\u001b[1;32m    185\u001b[0m     \u001b[0;32mif\u001b[0m \u001b[0misinstance\u001b[0m\u001b[0;34m(\u001b[0m\u001b[0mfilepath\u001b[0m\u001b[0;34m,\u001b[0m \u001b[0msix\u001b[0m\u001b[0;34m.\u001b[0m\u001b[0mstring_types\u001b[0m\u001b[0;34m)\u001b[0m\u001b[0;34m:\u001b[0m\u001b[0;34m\u001b[0m\u001b[0;34m\u001b[0m\u001b[0m\n\u001b[0;32m--> 186\u001b[0;31m       \u001b[0mloader_impl\u001b[0m\u001b[0;34m.\u001b[0m\u001b[0mparse_saved_model\u001b[0m\u001b[0;34m(\u001b[0m\u001b[0mfilepath\u001b[0m\u001b[0;34m)\u001b[0m\u001b[0;34m\u001b[0m\u001b[0;34m\u001b[0m\u001b[0m\n\u001b[0m\u001b[1;32m    187\u001b[0m       \u001b[0;32mreturn\u001b[0m \u001b[0msaved_model_load\u001b[0m\u001b[0;34m.\u001b[0m\u001b[0mload\u001b[0m\u001b[0;34m(\u001b[0m\u001b[0mfilepath\u001b[0m\u001b[0;34m,\u001b[0m \u001b[0mcompile\u001b[0m\u001b[0;34m,\u001b[0m \u001b[0moptions\u001b[0m\u001b[0;34m)\u001b[0m\u001b[0;34m\u001b[0m\u001b[0;34m\u001b[0m\u001b[0m\n\u001b[1;32m    188\u001b[0m \u001b[0;34m\u001b[0m\u001b[0m\n",
            "\u001b[0;32m/usr/local/lib/python3.6/dist-packages/tensorflow/python/saved_model/loader_impl.py\u001b[0m in \u001b[0;36mparse_saved_model\u001b[0;34m(export_dir)\u001b[0m\n\u001b[1;32m    111\u001b[0m                   (export_dir,\n\u001b[1;32m    112\u001b[0m                    \u001b[0mconstants\u001b[0m\u001b[0;34m.\u001b[0m\u001b[0mSAVED_MODEL_FILENAME_PBTXT\u001b[0m\u001b[0;34m,\u001b[0m\u001b[0;34m\u001b[0m\u001b[0;34m\u001b[0m\u001b[0m\n\u001b[0;32m--> 113\u001b[0;31m                    constants.SAVED_MODEL_FILENAME_PB))\n\u001b[0m\u001b[1;32m    114\u001b[0m \u001b[0;34m\u001b[0m\u001b[0m\n\u001b[1;32m    115\u001b[0m \u001b[0;34m\u001b[0m\u001b[0m\n",
            "\u001b[0;31mOSError\u001b[0m: SavedModel file does not exist at: basic_CNN.h5/{saved_model.pbtxt|saved_model.pb}"
          ]
        }
      ]
    },
    {
      "cell_type": "code",
      "metadata": {
        "id": "rBuLAvHFh3Ra",
        "colab_type": "code",
        "colab": {}
      },
      "source": [
        "#basic_CNN = keras.models.load_model(\"basic_CNN.h5\")"
      ],
      "execution_count": null,
      "outputs": []
    },
    {
      "cell_type": "code",
      "metadata": {
        "id": "zAwp_r5kplFq",
        "colab_type": "code",
        "colab": {
          "resources": {
            "http://localhost:8080/nbextensions/google.colab/files.js": {
              "data": "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",
              "ok": true,
              "headers": [
                [
                  "content-type",
                  "application/javascript"
                ]
              ],
              "status": 200,
              "status_text": ""
            }
          },
          "base_uri": "https://localhost:8080/",
          "height": 1000
        },
        "outputId": "582afbb6-115d-43fb-8152-fa9f0179c943"
      },
      "source": [
        "import numpy as np\n",
        "from google.colab import files\n",
        "from tensorflow.keras.preprocessing import image\n",
        "\n",
        "os.chdir('/content/')\n",
        "\n",
        "uploaded = files.upload()\n",
        "\n",
        "for fn in uploaded.keys():\n",
        "  path = '/content/' + fn\n",
        "  img = image.load_img(path, target_size = (300,300))\n",
        "  x = image.img_to_array(img)\n",
        "  x = np.expand_dims(x, axis=0)\n",
        "\n",
        "  images = np.vstack([x])\n",
        "  \n",
        "  classes = basic_CNN.predict(images, batch_size = 10)\n",
        "\n",
        "  print(classes[0])\n",
        "\n",
        "  if classes[0] > 0.5:\n",
        "    print (fn + \" is pneumonia: \" + str(classes[0]))\n",
        "  else:\n",
        "    print(fn + \" is not pneumonia: \" + str(classes[0]))\n"
      ],
      "execution_count": null,
      "outputs": [
        {
          "output_type": "display_data",
          "data": {
            "text/html": [
              "\n",
              "     <input type=\"file\" id=\"files-e508eaaf-7258-485a-99ee-200e2b74e784\" name=\"files[]\" multiple disabled\n",
              "        style=\"border:none\" />\n",
              "     <output id=\"result-e508eaaf-7258-485a-99ee-200e2b74e784\">\n",
              "      Upload widget is only available when the cell has been executed in the\n",
              "      current browser session. Please rerun this cell to enable.\n",
              "      </output>\n",
              "      <script src=\"/nbextensions/google.colab/files.js\"></script> "
            ],
            "text/plain": [
              "<IPython.core.display.HTML object>"
            ]
          },
          "metadata": {
            "tags": []
          }
        },
        {
          "output_type": "stream",
          "text": [
            "Saving 001-0, 3_31_2020_ DX from 5_27_2020 S0 I0.JPG to 001-0, 3_31_2020_ DX from 5_27_2020 S0 I0 (1).JPG\n",
            "Saving 002-0, 4_29_2019_ DX from 5_27_2020 S0 I0.JPG to 002-0, 4_29_2019_ DX from 5_27_2020 S0 I0.JPG\n",
            "Saving 003-0, 5_3_2019_ DX from 6_4_2020 S0 I0.JPG to 003-0, 5_3_2019_ DX from 6_4_2020 S0 I0.JPG\n",
            "Saving 004-0, 9_15_2019_ DX from 6_4_2020 S0 I0.JPG to 004-0, 9_15_2019_ DX from 6_4_2020 S0 I0.JPG\n",
            "Saving 005-0, 2_9_2020_ DX from 6_11_2020 S0 I0.JPG to 005-0, 2_9_2020_ DX from 6_11_2020 S0 I0.JPG\n",
            "Saving 006-0, 3_7_2017_ DX from 6_11_2020 S0 I0.JPG to 006-0, 3_7_2017_ DX from 6_11_2020 S0 I0.JPG\n",
            "Saving 007-0, 6_1_2019_ DX from 6_11_2020 S0 I0.JPG to 007-0, 6_1_2019_ DX from 6_11_2020 S0 I0.JPG\n",
            "Saving 008-0, 4_9_2020_ DX from 6_17_2020 S0 I0.JPG to 008-0, 4_9_2020_ DX from 6_17_2020 S0 I0.JPG\n",
            "Saving 009-0, 1_26_2020_ DX from 6_19_2020 S0 I0.JPG to 009-0, 1_26_2020_ DX from 6_19_2020 S0 I0.JPG\n",
            "Saving 010-0, 5_31_2019_ DX from 6_19_2020 S0 I0.JPG to 010-0, 5_31_2019_ DX from 6_19_2020 S0 I0.JPG\n",
            "Saving 011-0, 3_17_2020_ DX from 6_19_2020 S0 I0.JPG to 011-0, 3_17_2020_ DX from 6_19_2020 S0 I0.JPG\n",
            "Saving 012-0, 4_3_2020_ DX from 6_19_2020 S0 I0.JPG to 012-0, 4_3_2020_ DX from 6_19_2020 S0 I0.JPG\n",
            "Saving 013-0, 8_3_2019_ DX from 6_22_2020 S0 I0.JPG to 013-0, 8_3_2019_ DX from 6_22_2020 S0 I0.JPG\n",
            "Saving 014-0, 10_24_2019_ DX from 6_22_2020 S0 I0.JPG to 014-0, 10_24_2019_ DX from 6_22_2020 S0 I0.JPG\n",
            "Saving 015-0, 3_18_2020_ DX from 6_23_2020 S0 I0.JPG to 015-0, 3_18_2020_ DX from 6_23_2020 S0 I0.JPG\n",
            "Saving 016-0, 12_8_2019_ DX from 6_23_2020 S0 I0.JPG to 016-0, 12_8_2019_ DX from 6_23_2020 S0 I0.JPG\n",
            "Saving 017-0, 8_2_2019_ DX from 6_23_2020 S0 I0.JPG to 017-0, 8_2_2019_ DX from 6_23_2020 S0 I0.JPG\n",
            "Saving 018-0, 4_23_2020_ DX from 6_25_2020 S0 I0.JPG to 018-0, 4_23_2020_ DX from 6_25_2020 S0 I0.JPG\n",
            "Saving 019-0, 5_7_2018_ DX from 6_26_2020 S0 I0.JPG to 019-0, 5_7_2018_ DX from 6_26_2020 S0 I0.JPG\n",
            "Saving 020-0, 3_26_2020_ DX from 6_30_2020 S0 I0.JPG to 020-0, 3_26_2020_ DX from 6_30_2020 S0 I0.JPG\n",
            "Saving 021-0, 12_26_2018_ DX from 6_30_2020 S0 I0.JPG to 021-0, 12_26_2018_ DX from 6_30_2020 S0 I0.JPG\n",
            "Saving 022-0, 5_23_2020_ DX from 7_1_2020 S0 I0.JPG to 022-0, 5_23_2020_ DX from 7_1_2020 S0 I0.JPG\n",
            "Saving 023-0, 4_27_2020_ DX from 7_3_2020 S0 I0.JPG to 023-0, 4_27_2020_ DX from 7_3_2020 S0 I0.JPG\n",
            "Saving 024-0, 5_28_2020_ DX from 7_3_2020 S0 I0.JPG to 024-0, 5_28_2020_ DX from 7_3_2020 S0 I0.JPG\n",
            "Saving 025-0, 5_1_2020_ DX from 7_8_2020 S0 I0.JPG to 025-0, 5_1_2020_ DX from 7_8_2020 S0 I0.JPG\n",
            "Saving 026-0, 1_1_2020_ DX from 7_8_2020 S0 I0.JPG to 026-0, 1_1_2020_ DX from 7_8_2020 S0 I0.JPG\n",
            "Saving 027-0, 9_24_2018_ DX from 7_10_2020 S0 I0.JPG to 027-0, 9_24_2018_ DX from 7_10_2020 S0 I0.JPG\n",
            "Saving 028-0, 3_4_2020_ DX from 7_10_2020 S0 I0.JPG to 028-0, 3_4_2020_ DX from 7_10_2020 S0 I0.JPG\n",
            "Saving 029-0, 6_19_2019_ DX from 7_13_2020 S0 I0.JPG to 029-0, 6_19_2019_ DX from 7_13_2020 S0 I0.JPG\n",
            "Saving 030-0, 9_5_2019_ DX from 7_13_2020 S0 I0.JPG to 030-0, 9_5_2019_ DX from 7_13_2020 S0 I0.JPG\n",
            "Saving 031-0, 11_27_2018_ DX from 7_13_2020 S0 I0.JPG to 031-0, 11_27_2018_ DX from 7_13_2020 S0 I0.JPG\n",
            "Saving 032-0, 5_23_2019_ DX from 7_14_2020 S0 I0.JPG to 032-0, 5_23_2019_ DX from 7_14_2020 S0 I0.JPG\n",
            "Saving 033-0, 11_2_2019_ DX from 7_14_2020 S0 I0.JPG to 033-0, 11_2_2019_ DX from 7_14_2020 S0 I0.JPG\n",
            "Saving 034-0, 1_1_2020_ DX from 7_14_2020 S0 I0.JPG to 034-0, 1_1_2020_ DX from 7_14_2020 S0 I0.JPG\n",
            "Saving 035-0, 5_13_2020_ DX from 7_17_2020 S0 I0.JPG to 035-0, 5_13_2020_ DX from 7_17_2020 S0 I0.JPG\n",
            "Saving 036-0, 5_9_2020_ DX from 7_16_2020 S0 I0.JPG to 036-0, 5_9_2020_ DX from 7_16_2020 S0 I0.JPG\n",
            "Saving 037-0, 12_13_2015_ DX from 7_16_2020 S0 I0.JPG to 037-0, 12_13_2015_ DX from 7_16_2020 S0 I0.JPG\n",
            "Saving 038-0, 7_28_2019_ DX from 7_17_2020 S0 I0.JPG to 038-0, 7_28_2019_ DX from 7_17_2020 S0 I0.JPG\n",
            "Saving 039-0, 5_2_2020_ DX from 7_22_2020 S0 I0.JPG to 039-0, 5_2_2020_ DX from 7_22_2020 S0 I0.JPG\n",
            "Saving 040-0, 11_17_2018_ DX from 7_22_2020 S1 I0.JPG to 040-0, 11_17_2018_ DX from 7_22_2020 S1 I0.JPG\n",
            "Saving 041-0, 5_5_2019_ DX from 7_22_2020 S0 I0.JPG to 041-0, 5_5_2019_ DX from 7_22_2020 S0 I0.JPG\n",
            "Saving 042-0, 2_15_2020_ DX from 7_23_2020 S0 I0.JPG to 042-0, 2_15_2020_ DX from 7_23_2020 S0 I0.JPG\n",
            "Saving 043-0, 4_29_2020_ DX from 7_28_2020 S0 I0.JPG to 043-0, 4_29_2020_ DX from 7_28_2020 S0 I0.JPG\n",
            "Saving 044-0, 1_1_2019_ DX from 7_27_2020 S0 I0.JPG to 044-0, 1_1_2019_ DX from 7_27_2020 S0 I0.JPG\n",
            "Saving 045-0, 1_1_2019_ DX from 7_28_2020 S0 I0.JPG to 045-0, 1_1_2019_ DX from 7_28_2020 S0 I0.JPG\n",
            "Saving 046-0, 12_6_2019_ DX from 7_28_2020 S0 I0.JPG to 046-0, 12_6_2019_ DX from 7_28_2020 S0 I0.JPG\n",
            "Saving 047-0, 8_10_2019_ DX from 7_28_2020 S0 I0.JPG to 047-0, 8_10_2019_ DX from 7_28_2020 S0 I0.JPG\n",
            "Saving 048-0, 7_4_2019_ DX from 8_11_2020 S0 I0.JPG to 048-0, 7_4_2019_ DX from 8_11_2020 S0 I0.JPG\n",
            "Saving 049-0, 7_9_2020_ DX from 8_11_2020 S0 I0.JPG to 049-0, 7_9_2020_ DX from 8_11_2020 S0 I0.JPG\n",
            "Saving 050-0, 2_21_2016_ DX from 8_12_2020 S0 I0.JPG to 050-0, 2_21_2016_ DX from 8_12_2020 S0 I0.JPG\n",
            "Saving 051-0, 9_17_2018_ DX from 8_12_2020 S0 I0.JPG to 051-0, 9_17_2018_ DX from 8_12_2020 S0 I0.JPG\n",
            "Saving 052-0, 5_23_2020_ DX from 8_13_2020 S0 I0.JPG to 052-0, 5_23_2020_ DX from 8_13_2020 S0 I0.JPG\n",
            "Saving 053-0, 9_25_2019_ DX from 8_13_2020 S0 I0.JPG to 053-0, 9_25_2019_ DX from 8_13_2020 S0 I0.JPG\n",
            "Saving 054-0, 4_1_2020_ DX from 8_13_2020 S0 I0.JPG to 054-0, 4_1_2020_ DX from 8_13_2020 S0 I0.JPG\n",
            "Saving 055-0, 7_28_2017_ DX from 8_15_2020 S0 I0.JPG to 055-0, 7_28_2017_ DX from 8_15_2020 S0 I0.JPG\n",
            "Saving 056-0, 11_14_2016_ DX from 8_17_2020 S0 I0.JPG to 056-0, 11_14_2016_ DX from 8_17_2020 S0 I0.JPG\n",
            "Saving 057-0, 6_22_2020_ DX from 8_17_2020 S0 I0.JPG to 057-0, 6_22_2020_ DX from 8_17_2020 S0 I0.JPG\n",
            "Saving 058-0, 1_1_2016_ DX from 8_17_2020 S0 I0.JPG to 058-0, 1_1_2016_ DX from 8_17_2020 S0 I0.JPG\n",
            "Saving 059-0, 1_22_2020_ DX from 8_17_2020 S0 I0.JPG to 059-0, 1_22_2020_ DX from 8_17_2020 S0 I0.JPG\n",
            "Saving 061-0, 12_2_2016_ DX from 8_19_2020 S0 I0.JPG to 061-0, 12_2_2016_ DX from 8_19_2020 S0 I0.JPG\n",
            "[0.]\n",
            "001-0, 3_31_2020_ DX from 5_27_2020 S0 I0.JPG is not pneumonia: [0.]\n",
            "[0.]\n",
            "002-0, 4_29_2019_ DX from 5_27_2020 S0 I0.JPG is not pneumonia: [0.]\n",
            "[1.]\n",
            "003-0, 5_3_2019_ DX from 6_4_2020 S0 I0.JPG is pneumonia: [1.]\n",
            "[0.]\n",
            "004-0, 9_15_2019_ DX from 6_4_2020 S0 I0.JPG is not pneumonia: [0.]\n",
            "[0.]\n",
            "005-0, 2_9_2020_ DX from 6_11_2020 S0 I0.JPG is not pneumonia: [0.]\n",
            "[0.]\n",
            "006-0, 3_7_2017_ DX from 6_11_2020 S0 I0.JPG is not pneumonia: [0.]\n",
            "[0.]\n",
            "007-0, 6_1_2019_ DX from 6_11_2020 S0 I0.JPG is not pneumonia: [0.]\n",
            "[0.]\n",
            "008-0, 4_9_2020_ DX from 6_17_2020 S0 I0.JPG is not pneumonia: [0.]\n",
            "[0.]\n",
            "009-0, 1_26_2020_ DX from 6_19_2020 S0 I0.JPG is not pneumonia: [0.]\n",
            "[0.]\n",
            "010-0, 5_31_2019_ DX from 6_19_2020 S0 I0.JPG is not pneumonia: [0.]\n",
            "[0.]\n",
            "011-0, 3_17_2020_ DX from 6_19_2020 S0 I0.JPG is not pneumonia: [0.]\n",
            "[0.]\n",
            "012-0, 4_3_2020_ DX from 6_19_2020 S0 I0.JPG is not pneumonia: [0.]\n",
            "[0.]\n",
            "013-0, 8_3_2019_ DX from 6_22_2020 S0 I0.JPG is not pneumonia: [0.]\n",
            "[0.]\n",
            "014-0, 10_24_2019_ DX from 6_22_2020 S0 I0.JPG is not pneumonia: [0.]\n",
            "[0.]\n",
            "015-0, 3_18_2020_ DX from 6_23_2020 S0 I0.JPG is not pneumonia: [0.]\n",
            "[0.]\n",
            "016-0, 12_8_2019_ DX from 6_23_2020 S0 I0.JPG is not pneumonia: [0.]\n",
            "[0.]\n",
            "017-0, 8_2_2019_ DX from 6_23_2020 S0 I0.JPG is not pneumonia: [0.]\n",
            "[0.]\n",
            "018-0, 4_23_2020_ DX from 6_25_2020 S0 I0.JPG is not pneumonia: [0.]\n",
            "[1.]\n",
            "019-0, 5_7_2018_ DX from 6_26_2020 S0 I0.JPG is pneumonia: [1.]\n",
            "[0.]\n",
            "020-0, 3_26_2020_ DX from 6_30_2020 S0 I0.JPG is not pneumonia: [0.]\n",
            "[5.128242e-13]\n",
            "021-0, 12_26_2018_ DX from 6_30_2020 S0 I0.JPG is not pneumonia: [5.128242e-13]\n",
            "[2.1410707e-09]\n",
            "022-0, 5_23_2020_ DX from 7_1_2020 S0 I0.JPG is not pneumonia: [2.1410707e-09]\n",
            "[0.]\n",
            "023-0, 4_27_2020_ DX from 7_3_2020 S0 I0.JPG is not pneumonia: [0.]\n",
            "[0.]\n",
            "024-0, 5_28_2020_ DX from 7_3_2020 S0 I0.JPG is not pneumonia: [0.]\n",
            "[0.]\n",
            "025-0, 5_1_2020_ DX from 7_8_2020 S0 I0.JPG is not pneumonia: [0.]\n",
            "[0.]\n",
            "026-0, 1_1_2020_ DX from 7_8_2020 S0 I0.JPG is not pneumonia: [0.]\n",
            "[0.]\n",
            "027-0, 9_24_2018_ DX from 7_10_2020 S0 I0.JPG is not pneumonia: [0.]\n",
            "[0.]\n",
            "028-0, 3_4_2020_ DX from 7_10_2020 S0 I0.JPG is not pneumonia: [0.]\n",
            "[1.]\n",
            "029-0, 6_19_2019_ DX from 7_13_2020 S0 I0.JPG is pneumonia: [1.]\n",
            "[0.]\n",
            "030-0, 9_5_2019_ DX from 7_13_2020 S0 I0.JPG is not pneumonia: [0.]\n",
            "[0.]\n",
            "031-0, 11_27_2018_ DX from 7_13_2020 S0 I0.JPG is not pneumonia: [0.]\n",
            "[0.]\n",
            "032-0, 5_23_2019_ DX from 7_14_2020 S0 I0.JPG is not pneumonia: [0.]\n",
            "[0.]\n",
            "033-0, 11_2_2019_ DX from 7_14_2020 S0 I0.JPG is not pneumonia: [0.]\n",
            "[1.]\n",
            "034-0, 1_1_2020_ DX from 7_14_2020 S0 I0.JPG is pneumonia: [1.]\n",
            "[0.]\n",
            "035-0, 5_13_2020_ DX from 7_17_2020 S0 I0.JPG is not pneumonia: [0.]\n",
            "[0.]\n",
            "036-0, 5_9_2020_ DX from 7_16_2020 S0 I0.JPG is not pneumonia: [0.]\n",
            "[7.9859756e-29]\n",
            "037-0, 12_13_2015_ DX from 7_16_2020 S0 I0.JPG is not pneumonia: [7.9859756e-29]\n",
            "[0.]\n",
            "038-0, 7_28_2019_ DX from 7_17_2020 S0 I0.JPG is not pneumonia: [0.]\n",
            "[0.]\n",
            "039-0, 5_2_2020_ DX from 7_22_2020 S0 I0.JPG is not pneumonia: [0.]\n",
            "[0.]\n",
            "040-0, 11_17_2018_ DX from 7_22_2020 S1 I0.JPG is not pneumonia: [0.]\n",
            "[0.]\n",
            "041-0, 5_5_2019_ DX from 7_22_2020 S0 I0.JPG is not pneumonia: [0.]\n",
            "[0.]\n",
            "042-0, 2_15_2020_ DX from 7_23_2020 S0 I0.JPG is not pneumonia: [0.]\n",
            "[0.]\n",
            "043-0, 4_29_2020_ DX from 7_28_2020 S0 I0.JPG is not pneumonia: [0.]\n",
            "[0.]\n",
            "044-0, 1_1_2019_ DX from 7_27_2020 S0 I0.JPG is not pneumonia: [0.]\n",
            "[3.2592372e-05]\n",
            "045-0, 1_1_2019_ DX from 7_28_2020 S0 I0.JPG is not pneumonia: [3.2592372e-05]\n",
            "[0.]\n",
            "046-0, 12_6_2019_ DX from 7_28_2020 S0 I0.JPG is not pneumonia: [0.]\n",
            "[0.]\n",
            "047-0, 8_10_2019_ DX from 7_28_2020 S0 I0.JPG is not pneumonia: [0.]\n",
            "[2.5609536e-16]\n",
            "048-0, 7_4_2019_ DX from 8_11_2020 S0 I0.JPG is not pneumonia: [2.5609536e-16]\n",
            "[0.]\n",
            "049-0, 7_9_2020_ DX from 8_11_2020 S0 I0.JPG is not pneumonia: [0.]\n",
            "[1.0931146e-23]\n",
            "050-0, 2_21_2016_ DX from 8_12_2020 S0 I0.JPG is not pneumonia: [1.0931146e-23]\n",
            "[0.]\n",
            "051-0, 9_17_2018_ DX from 8_12_2020 S0 I0.JPG is not pneumonia: [0.]\n",
            "[0.9816441]\n",
            "052-0, 5_23_2020_ DX from 8_13_2020 S0 I0.JPG is pneumonia: [0.9816441]\n",
            "[4.377228e-19]\n",
            "053-0, 9_25_2019_ DX from 8_13_2020 S0 I0.JPG is not pneumonia: [4.377228e-19]\n",
            "[0.]\n",
            "054-0, 4_1_2020_ DX from 8_13_2020 S0 I0.JPG is not pneumonia: [0.]\n",
            "[0.]\n",
            "055-0, 7_28_2017_ DX from 8_15_2020 S0 I0.JPG is not pneumonia: [0.]\n",
            "[4.5877914e-05]\n",
            "056-0, 11_14_2016_ DX from 8_17_2020 S0 I0.JPG is not pneumonia: [4.5877914e-05]\n",
            "[0.]\n",
            "057-0, 6_22_2020_ DX from 8_17_2020 S0 I0.JPG is not pneumonia: [0.]\n",
            "[0.]\n",
            "058-0, 1_1_2016_ DX from 8_17_2020 S0 I0.JPG is not pneumonia: [0.]\n",
            "[0.]\n",
            "059-0, 1_22_2020_ DX from 8_17_2020 S0 I0.JPG is not pneumonia: [0.]\n",
            "[0.]\n",
            "061-0, 12_2_2016_ DX from 8_19_2020 S0 I0.JPG is not pneumonia: [0.]\n"
          ],
          "name": "stdout"
        }
      ]
    }
  ]
}